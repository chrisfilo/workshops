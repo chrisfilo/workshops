{
 "cells": [
  {
   "cell_type": "markdown",
   "metadata": {
    "deletable": true,
    "editable": true
   },
   "source": [
    "## Data input for BIDS datasets\n",
    "`DataGrabber` and `SelectFiles` are great if you are dealing with generic datasets with arbitrary organization. However if you have decided to use Brain Imaging Data Structure (BIDS) to organized your data (or got your hands on a BIDS dataset) you can take advanted of a formal structure BIDS imposes. In this short tutorial you will learn how to do this."
   ]
  },
  {
   "cell_type": "markdown",
   "metadata": {
    "deletable": true,
    "editable": true
   },
   "source": [
    "## `pybids` - a Python API for working with BIDS datasets\n",
    "`pybids` is a lightweight python API for querying BIDS folder structure for specific files and metadata. You can install it from PyPi:\n",
    "```\n",
    "pip install pybids\n",
    "```\n",
    "Please note it should be already installed in the tutorial Docker image."
   ]
  },
  {
   "cell_type": "markdown",
   "metadata": {
    "deletable": true,
    "editable": true
   },
   "source": [
    "## The `layout` object and simple queries\n",
    "To begin working with pubids we need to initalize a layout object. We will need it to do all of our queries"
   ]
  },
  {
   "cell_type": "code",
   "execution_count": 1,
   "metadata": {
    "collapsed": true,
    "deletable": true,
    "editable": true
   },
   "outputs": [],
   "source": [
    "from bids.grabbids import BIDSLayout\n",
    "layout = BIDSLayout(\"/home/jovyan/work/data/ds000114/\")"
   ]
  },
  {
   "cell_type": "code",
   "execution_count": 2,
   "metadata": {
    "collapsed": false
   },
   "outputs": [
    {
     "name": "stdout",
     "output_type": "stream",
     "text": [
      "/home/jovyan/work/data/ds000114/\r\n",
      "├── dataset_description.json\r\n",
      "├── dwi.bval\r\n",
      "├── dwi.bvec\r\n",
      "├── sub-01\r\n",
      "│   ├── anat\r\n",
      "│   │   └── sub-01_T1w.nii.gz -> ../../.git/annex/objects/QP/jm/MD5E-s8677710--d6820f6cb8fb965e864419c14f6a22d5.nii.gz/MD5E-s8677710--d6820f6cb8fb965e864419c14f6a22d5.nii.gz\r\n",
      "│   ├── dwi\r\n",
      "│   │   └── sub-01_dwi.nii.gz -> ../../.git/annex/objects/X2/kJ/MD5E-s104193417--454850ac9ed1c96c40b6b7946e51bf71.nii.gz/MD5E-s104193417--454850ac9ed1c96c40b6b7946e51bf71.nii.gz\r\n",
      "│   └── func\r\n",
      "│       ├── sub-01_task-fingerfootlips_bold.nii.gz -> ../../.git/annex/objects/k6/4f/MD5E-s24454931--e9ab535d84a922b0c7ed52461244cf47.nii.gz/MD5E-s24454931--e9ab535d84a922b0c7ed52461244cf47.nii.gz\r\n",
      "│       ├── sub-01_task-linebisection_bold.nii.gz -> ../../.git/annex/objects/32/Qq/MD5E-s31617092--151bc230c3b577110883369b6fad0daa.nii.gz/MD5E-s31617092--151bc230c3b577110883369b6fad0daa.nii.gz\r\n",
      "│       └── sub-01_task-linebisection_events.tsv\r\n",
      "├── sub-02\r\n",
      "│   ├── anat\r\n",
      "│   │   └── sub-02_T1w.nii.gz -> ../../.git/annex/objects/qq/gm/MD5E-s10025785--0e790e210a275d76e3f2f4d895df6358.nii.gz/MD5E-s10025785--0e790e210a275d76e3f2f4d895df6358.nii.gz\r\n",
      "│   ├── dwi\r\n",
      "│   │   └── sub-02_dwi.nii.gz -> ../../.git/annex/objects/8x/vp/MD5E-s104222416--86575d07809e9c717079592a12c69344.nii.gz/MD5E-s104222416--86575d07809e9c717079592a12c69344.nii.gz\r\n",
      "│   └── func\r\n",
      "│       ├── sub-02_task-fingerfootlips_bold.nii.gz -> ../../.git/annex/objects/pG/k1/MD5E-s24882575--75c39bee9e25e02c629dfcce1b378589.nii.gz/MD5E-s24882575--75c39bee9e25e02c629dfcce1b378589.nii.gz\r\n",
      "│       ├── sub-02_task-linebisection_bold.nii.gz -> ../../.git/annex/objects/WM/m9/MD5E-s32248732--4cd877de7b4c66e073610dffb67dfbcc.nii.gz/MD5E-s32248732--4cd877de7b4c66e073610dffb67dfbcc.nii.gz\r\n",
      "│       └── sub-02_task-linebisection_events.tsv\r\n",
      "├── task-fingerfootlips_bold.json\r\n",
      "├── task-fingerfootlips_events.tsv\r\n",
      "└── task-linebisection_bold.json\r\n",
      "\r\n",
      "8 directories, 16 files\r\n"
     ]
    }
   ],
   "source": [
    "!tree -I derivatives /home/jovyan/work/data/ds000114/"
   ]
  },
  {
   "cell_type": "markdown",
   "metadata": {
    "deletable": true,
    "editable": true
   },
   "source": [
    "Let's figure out what are the subject labels in this dataset"
   ]
  },
  {
   "cell_type": "code",
   "execution_count": 3,
   "metadata": {
    "collapsed": false,
    "deletable": true,
    "editable": true
   },
   "outputs": [
    {
     "data": {
      "text/plain": [
       "['01', '02']"
      ]
     },
     "execution_count": 3,
     "metadata": {},
     "output_type": "execute_result"
    }
   ],
   "source": [
    "layout.get_subjects()"
   ]
  },
  {
   "cell_type": "markdown",
   "metadata": {
    "deletable": true,
    "editable": true
   },
   "source": [
    "What modalities are included in this dataset?"
   ]
  },
  {
   "cell_type": "code",
   "execution_count": 4,
   "metadata": {
    "collapsed": false,
    "deletable": true,
    "editable": true
   },
   "outputs": [
    {
     "data": {
      "text/plain": [
       "['anat', 'dwi', 'func']"
      ]
     },
     "execution_count": 4,
     "metadata": {},
     "output_type": "execute_result"
    }
   ],
   "source": [
    "layout.get_modalities()"
   ]
  },
  {
   "cell_type": "markdown",
   "metadata": {
    "deletable": true,
    "editable": true
   },
   "source": [
    "What different data types are included in this dataset?"
   ]
  },
  {
   "cell_type": "code",
   "execution_count": 5,
   "metadata": {
    "collapsed": false,
    "deletable": true,
    "editable": true
   },
   "outputs": [
    {
     "data": {
      "text/plain": [
       "['bold', 'dwi', 'events', 'T1w']"
      ]
     },
     "execution_count": 5,
     "metadata": {},
     "output_type": "execute_result"
    }
   ],
   "source": [
    "layout.get_types()"
   ]
  },
  {
   "cell_type": "code",
   "execution_count": 6,
   "metadata": {
    "collapsed": false,
    "deletable": true,
    "editable": true
   },
   "outputs": [
    {
     "data": {
      "text/plain": [
       "['bold', 'events']"
      ]
     },
     "execution_count": 6,
     "metadata": {},
     "output_type": "execute_result"
    }
   ],
   "source": [
    "layout.get_types(modality='func')"
   ]
  },
  {
   "cell_type": "markdown",
   "metadata": {
    "deletable": true,
    "editable": true
   },
   "source": [
    "What are the different tasks included in this dataset?"
   ]
  },
  {
   "cell_type": "code",
   "execution_count": 7,
   "metadata": {
    "collapsed": false,
    "deletable": true,
    "editable": true
   },
   "outputs": [
    {
     "data": {
      "text/plain": [
       "['fingerfootlips', 'linebisection']"
      ]
     },
     "execution_count": 7,
     "metadata": {},
     "output_type": "execute_result"
    }
   ],
   "source": [
    "layout.get_tasks()"
   ]
  },
  {
   "cell_type": "markdown",
   "metadata": {
    "deletable": true,
    "editable": true
   },
   "source": [
    "We can also ask for all of the data for a particular subject."
   ]
  },
  {
   "cell_type": "code",
   "execution_count": 8,
   "metadata": {
    "collapsed": false,
    "deletable": true,
    "editable": true
   },
   "outputs": [
    {
     "data": {
      "text/plain": [
       "[File(filename='/home/jovyan/work/data/ds000114/derivatives/freesurfer/sub-01/label/aparc.annot.a2009s.ctab', subject='01'),\n",
       " File(filename='/home/jovyan/work/data/ds000114/derivatives/freesurfer/sub-01/label/aparc.annot.ctab', subject='01'),\n",
       " File(filename='/home/jovyan/work/data/ds000114/derivatives/freesurfer/sub-01/label/aparc.annot.DKTatlas40.ctab', subject='01'),\n",
       " File(filename='/home/jovyan/work/data/ds000114/derivatives/freesurfer/sub-01/label/BA.ctab', subject='01'),\n",
       " File(filename='/home/jovyan/work/data/ds000114/derivatives/freesurfer/sub-01/label/BA.thresh.ctab', subject='01'),\n",
       " File(filename='/home/jovyan/work/data/ds000114/derivatives/freesurfer/sub-01/label/lh.aparc.a2009s.annot', subject='01'),\n",
       " File(filename='/home/jovyan/work/data/ds000114/derivatives/freesurfer/sub-01/label/lh.aparc.annot', subject='01'),\n",
       " File(filename='/home/jovyan/work/data/ds000114/derivatives/freesurfer/sub-01/label/lh.aparc.DKTatlas40.annot', subject='01'),\n",
       " File(filename='/home/jovyan/work/data/ds000114/derivatives/freesurfer/sub-01/label/lh.BA1.label', subject='01'),\n",
       " File(filename='/home/jovyan/work/data/ds000114/derivatives/freesurfer/sub-01/label/lh.BA1.thresh.label', subject='01'),\n",
       " File(filename='/home/jovyan/work/data/ds000114/derivatives/freesurfer/sub-01/label/lh.BA2.label', subject='01'),\n",
       " File(filename='/home/jovyan/work/data/ds000114/derivatives/freesurfer/sub-01/label/lh.BA2.thresh.label', subject='01'),\n",
       " File(filename='/home/jovyan/work/data/ds000114/derivatives/freesurfer/sub-01/label/lh.BA3a.label', subject='01'),\n",
       " File(filename='/home/jovyan/work/data/ds000114/derivatives/freesurfer/sub-01/label/lh.BA3a.thresh.label', subject='01'),\n",
       " File(filename='/home/jovyan/work/data/ds000114/derivatives/freesurfer/sub-01/label/lh.BA3b.label', subject='01'),\n",
       " File(filename='/home/jovyan/work/data/ds000114/derivatives/freesurfer/sub-01/label/lh.BA3b.thresh.label', subject='01'),\n",
       " File(filename='/home/jovyan/work/data/ds000114/derivatives/freesurfer/sub-01/label/lh.BA4a.label', subject='01'),\n",
       " File(filename='/home/jovyan/work/data/ds000114/derivatives/freesurfer/sub-01/label/lh.BA4a.thresh.label', subject='01'),\n",
       " File(filename='/home/jovyan/work/data/ds000114/derivatives/freesurfer/sub-01/label/lh.BA4p.label', subject='01'),\n",
       " File(filename='/home/jovyan/work/data/ds000114/derivatives/freesurfer/sub-01/label/lh.BA4p.thresh.label', subject='01'),\n",
       " File(filename='/home/jovyan/work/data/ds000114/derivatives/freesurfer/sub-01/label/lh.BA6.label', subject='01'),\n",
       " File(filename='/home/jovyan/work/data/ds000114/derivatives/freesurfer/sub-01/label/lh.BA6.thresh.label', subject='01'),\n",
       " File(filename='/home/jovyan/work/data/ds000114/derivatives/freesurfer/sub-01/label/lh.BA44.label', subject='01'),\n",
       " File(filename='/home/jovyan/work/data/ds000114/derivatives/freesurfer/sub-01/label/lh.BA44.thresh.label', subject='01'),\n",
       " File(filename='/home/jovyan/work/data/ds000114/derivatives/freesurfer/sub-01/label/lh.BA45.label', subject='01'),\n",
       " File(filename='/home/jovyan/work/data/ds000114/derivatives/freesurfer/sub-01/label/lh.BA45.thresh.label', subject='01'),\n",
       " File(filename='/home/jovyan/work/data/ds000114/derivatives/freesurfer/sub-01/label/lh.BA.annot', subject='01'),\n",
       " File(filename='/home/jovyan/work/data/ds000114/derivatives/freesurfer/sub-01/label/lh.BA.thresh.annot', subject='01'),\n",
       " File(filename='/home/jovyan/work/data/ds000114/derivatives/freesurfer/sub-01/label/lh.cortex.label', subject='01'),\n",
       " File(filename='/home/jovyan/work/data/ds000114/derivatives/freesurfer/sub-01/label/lh.entorhinal_exvivo.label', subject='01'),\n",
       " File(filename='/home/jovyan/work/data/ds000114/derivatives/freesurfer/sub-01/label/lh.MT.label', subject='01'),\n",
       " File(filename='/home/jovyan/work/data/ds000114/derivatives/freesurfer/sub-01/label/lh.MT.thresh.label', subject='01'),\n",
       " File(filename='/home/jovyan/work/data/ds000114/derivatives/freesurfer/sub-01/label/lh.perirhinal.label', subject='01'),\n",
       " File(filename='/home/jovyan/work/data/ds000114/derivatives/freesurfer/sub-01/label/lh.V1.label', subject='01'),\n",
       " File(filename='/home/jovyan/work/data/ds000114/derivatives/freesurfer/sub-01/label/lh.V1.thresh.label', subject='01'),\n",
       " File(filename='/home/jovyan/work/data/ds000114/derivatives/freesurfer/sub-01/label/lh.V2.label', subject='01'),\n",
       " File(filename='/home/jovyan/work/data/ds000114/derivatives/freesurfer/sub-01/label/lh.V2.thresh.label', subject='01'),\n",
       " File(filename='/home/jovyan/work/data/ds000114/derivatives/freesurfer/sub-01/label/rh.aparc.a2009s.annot', subject='01'),\n",
       " File(filename='/home/jovyan/work/data/ds000114/derivatives/freesurfer/sub-01/label/rh.aparc.annot', subject='01'),\n",
       " File(filename='/home/jovyan/work/data/ds000114/derivatives/freesurfer/sub-01/label/rh.aparc.DKTatlas40.annot', subject='01'),\n",
       " File(filename='/home/jovyan/work/data/ds000114/derivatives/freesurfer/sub-01/label/rh.BA1.label', subject='01'),\n",
       " File(filename='/home/jovyan/work/data/ds000114/derivatives/freesurfer/sub-01/label/rh.BA1.thresh.label', subject='01'),\n",
       " File(filename='/home/jovyan/work/data/ds000114/derivatives/freesurfer/sub-01/label/rh.BA2.label', subject='01'),\n",
       " File(filename='/home/jovyan/work/data/ds000114/derivatives/freesurfer/sub-01/label/rh.BA2.thresh.label', subject='01'),\n",
       " File(filename='/home/jovyan/work/data/ds000114/derivatives/freesurfer/sub-01/label/rh.BA3a.label', subject='01'),\n",
       " File(filename='/home/jovyan/work/data/ds000114/derivatives/freesurfer/sub-01/label/rh.BA3a.thresh.label', subject='01'),\n",
       " File(filename='/home/jovyan/work/data/ds000114/derivatives/freesurfer/sub-01/label/rh.BA3b.label', subject='01'),\n",
       " File(filename='/home/jovyan/work/data/ds000114/derivatives/freesurfer/sub-01/label/rh.BA3b.thresh.label', subject='01'),\n",
       " File(filename='/home/jovyan/work/data/ds000114/derivatives/freesurfer/sub-01/label/rh.BA4a.label', subject='01'),\n",
       " File(filename='/home/jovyan/work/data/ds000114/derivatives/freesurfer/sub-01/label/rh.BA4a.thresh.label', subject='01'),\n",
       " File(filename='/home/jovyan/work/data/ds000114/derivatives/freesurfer/sub-01/label/rh.BA4p.label', subject='01'),\n",
       " File(filename='/home/jovyan/work/data/ds000114/derivatives/freesurfer/sub-01/label/rh.BA4p.thresh.label', subject='01'),\n",
       " File(filename='/home/jovyan/work/data/ds000114/derivatives/freesurfer/sub-01/label/rh.BA6.label', subject='01'),\n",
       " File(filename='/home/jovyan/work/data/ds000114/derivatives/freesurfer/sub-01/label/rh.BA6.thresh.label', subject='01'),\n",
       " File(filename='/home/jovyan/work/data/ds000114/derivatives/freesurfer/sub-01/label/rh.BA44.label', subject='01'),\n",
       " File(filename='/home/jovyan/work/data/ds000114/derivatives/freesurfer/sub-01/label/rh.BA44.thresh.label', subject='01'),\n",
       " File(filename='/home/jovyan/work/data/ds000114/derivatives/freesurfer/sub-01/label/rh.BA45.label', subject='01'),\n",
       " File(filename='/home/jovyan/work/data/ds000114/derivatives/freesurfer/sub-01/label/rh.BA45.thresh.label', subject='01'),\n",
       " File(filename='/home/jovyan/work/data/ds000114/derivatives/freesurfer/sub-01/label/rh.BA.annot', subject='01'),\n",
       " File(filename='/home/jovyan/work/data/ds000114/derivatives/freesurfer/sub-01/label/rh.BA.thresh.annot', subject='01'),\n",
       " File(filename='/home/jovyan/work/data/ds000114/derivatives/freesurfer/sub-01/label/rh.cortex.label', subject='01'),\n",
       " File(filename='/home/jovyan/work/data/ds000114/derivatives/freesurfer/sub-01/label/rh.entorhinal_exvivo.label', subject='01'),\n",
       " File(filename='/home/jovyan/work/data/ds000114/derivatives/freesurfer/sub-01/label/rh.MT.label', subject='01'),\n",
       " File(filename='/home/jovyan/work/data/ds000114/derivatives/freesurfer/sub-01/label/rh.MT.thresh.label', subject='01'),\n",
       " File(filename='/home/jovyan/work/data/ds000114/derivatives/freesurfer/sub-01/label/rh.perirhinal.label', subject='01'),\n",
       " File(filename='/home/jovyan/work/data/ds000114/derivatives/freesurfer/sub-01/label/rh.V1.label', subject='01'),\n",
       " File(filename='/home/jovyan/work/data/ds000114/derivatives/freesurfer/sub-01/label/rh.V1.thresh.label', subject='01'),\n",
       " File(filename='/home/jovyan/work/data/ds000114/derivatives/freesurfer/sub-01/label/rh.V2.label', subject='01'),\n",
       " File(filename='/home/jovyan/work/data/ds000114/derivatives/freesurfer/sub-01/label/rh.V2.thresh.label', subject='01'),\n",
       " File(filename='/home/jovyan/work/data/ds000114/derivatives/freesurfer/sub-01/mri/.xdebug_mris_calc', subject='01'),\n",
       " File(filename='/home/jovyan/work/data/ds000114/derivatives/freesurfer/sub-01/mri/aparc+aseg.mgz', subject='01'),\n",
       " File(filename='/home/jovyan/work/data/ds000114/derivatives/freesurfer/sub-01/mri/aparc.a2009s+aseg.mgz', subject='01'),\n",
       " File(filename='/home/jovyan/work/data/ds000114/derivatives/freesurfer/sub-01/mri/aseg.auto.mgz', subject='01'),\n",
       " File(filename='/home/jovyan/work/data/ds000114/derivatives/freesurfer/sub-01/mri/aseg.auto_noCCseg.label_intensities.txt', subject='01'),\n",
       " File(filename='/home/jovyan/work/data/ds000114/derivatives/freesurfer/sub-01/mri/aseg.auto_noCCseg.mgz', subject='01'),\n",
       " File(filename='/home/jovyan/work/data/ds000114/derivatives/freesurfer/sub-01/mri/aseg.mgz', subject='01'),\n",
       " File(filename='/home/jovyan/work/data/ds000114/derivatives/freesurfer/sub-01/mri/brain.finalsurfs.mgz', subject='01'),\n",
       " File(filename='/home/jovyan/work/data/ds000114/derivatives/freesurfer/sub-01/mri/brain.mgz', subject='01'),\n",
       " File(filename='/home/jovyan/work/data/ds000114/derivatives/freesurfer/sub-01/mri/brainmask.auto.mgz', subject='01'),\n",
       " File(filename='/home/jovyan/work/data/ds000114/derivatives/freesurfer/sub-01/mri/brainmask.mgz', subject='01'),\n",
       " File(filename='/home/jovyan/work/data/ds000114/derivatives/freesurfer/sub-01/mri/ctrl_pts.mgz', subject='01'),\n",
       " File(filename='/home/jovyan/work/data/ds000114/derivatives/freesurfer/sub-01/mri/filled.mgz', subject='01'),\n",
       " File(filename='/home/jovyan/work/data/ds000114/derivatives/freesurfer/sub-01/mri/lh.ribbon.mgz', subject='01'),\n",
       " File(filename='/home/jovyan/work/data/ds000114/derivatives/freesurfer/sub-01/mri/mri_nu_correct.mni.log', subject='01'),\n",
       " File(filename='/home/jovyan/work/data/ds000114/derivatives/freesurfer/sub-01/mri/mri_nu_correct.mni.log.bak', subject='01'),\n",
       " File(filename='/home/jovyan/work/data/ds000114/derivatives/freesurfer/sub-01/mri/norm.mgz', subject='01'),\n",
       " File(filename='/home/jovyan/work/data/ds000114/derivatives/freesurfer/sub-01/mri/nu.mgz', subject='01'),\n",
       " File(filename='/home/jovyan/work/data/ds000114/derivatives/freesurfer/sub-01/mri/nu_noneck.mgz', subject='01'),\n",
       " File(filename='/home/jovyan/work/data/ds000114/derivatives/freesurfer/sub-01/mri/orig.mgz', subject='01'),\n",
       " File(filename='/home/jovyan/work/data/ds000114/derivatives/freesurfer/sub-01/mri/orig/001.mgz', subject='01'),\n",
       " File(filename='/home/jovyan/work/data/ds000114/derivatives/freesurfer/sub-01/mri/orig_nu.log', subject='01'),\n",
       " File(filename='/home/jovyan/work/data/ds000114/derivatives/freesurfer/sub-01/mri/orig_nu.mgz', subject='01'),\n",
       " File(filename='/home/jovyan/work/data/ds000114/derivatives/freesurfer/sub-01/mri/rawavg.mgz', subject='01'),\n",
       " File(filename='/home/jovyan/work/data/ds000114/derivatives/freesurfer/sub-01/mri/rh.ribbon.mgz', subject='01'),\n",
       " File(filename='/home/jovyan/work/data/ds000114/derivatives/freesurfer/sub-01/mri/ribbon.mgz', subject='01'),\n",
       " File(filename='/home/jovyan/work/data/ds000114/derivatives/freesurfer/sub-01/mri/segment.dat', subject='01'),\n",
       " File(filename='/home/jovyan/work/data/ds000114/derivatives/freesurfer/sub-01/mri/T1.mgz', subject='01'),\n",
       " File(filename='/home/jovyan/work/data/ds000114/derivatives/freesurfer/sub-01/mri/talairach.label_intensities.txt', subject='01'),\n",
       " File(filename='/home/jovyan/work/data/ds000114/derivatives/freesurfer/sub-01/mri/talairach.log', subject='01'),\n",
       " File(filename='/home/jovyan/work/data/ds000114/derivatives/freesurfer/sub-01/mri/talairach_with_skull.log', subject='01'),\n",
       " File(filename='/home/jovyan/work/data/ds000114/derivatives/freesurfer/sub-01/mri/talairach_with_skull_2.log', subject='01'),\n",
       " File(filename='/home/jovyan/work/data/ds000114/derivatives/freesurfer/sub-01/mri/transforms/cc_up.lta', subject='01'),\n",
       " File(filename='/home/jovyan/work/data/ds000114/derivatives/freesurfer/sub-01/mri/transforms/talairach.auto.xfm', subject='01'),\n",
       " File(filename='/home/jovyan/work/data/ds000114/derivatives/freesurfer/sub-01/mri/transforms/talairach.lta', subject='01'),\n",
       " File(filename='/home/jovyan/work/data/ds000114/derivatives/freesurfer/sub-01/mri/transforms/talairach.m3z', subject='01'),\n",
       " File(filename='/home/jovyan/work/data/ds000114/derivatives/freesurfer/sub-01/mri/transforms/talairach.m3z.inv.x.mgz', subject='01'),\n",
       " File(filename='/home/jovyan/work/data/ds000114/derivatives/freesurfer/sub-01/mri/transforms/talairach.m3z.inv.y.mgz', subject='01'),\n",
       " File(filename='/home/jovyan/work/data/ds000114/derivatives/freesurfer/sub-01/mri/transforms/talairach.m3z.inv.z.mgz', subject='01'),\n",
       " File(filename='/home/jovyan/work/data/ds000114/derivatives/freesurfer/sub-01/mri/transforms/talairach.xfm', subject='01'),\n",
       " File(filename='/home/jovyan/work/data/ds000114/derivatives/freesurfer/sub-01/mri/transforms/talairach_avi.log', subject='01'),\n",
       " File(filename='/home/jovyan/work/data/ds000114/derivatives/freesurfer/sub-01/mri/transforms/talairach_avi_QA.log', subject='01'),\n",
       " File(filename='/home/jovyan/work/data/ds000114/derivatives/freesurfer/sub-01/mri/transforms/talairach_with_skull.lta', subject='01'),\n",
       " File(filename='/home/jovyan/work/data/ds000114/derivatives/freesurfer/sub-01/mri/transforms/talairach_with_skull_2.lta', subject='01'),\n",
       " File(filename='/home/jovyan/work/data/ds000114/derivatives/freesurfer/sub-01/mri/transforms/talsrcimg_to_711-2C_as_mni_average_305_t4_vox2vox.txt', subject='01'),\n",
       " File(filename='/home/jovyan/work/data/ds000114/derivatives/freesurfer/sub-01/mri/wm.asegedit.mgz', subject='01'),\n",
       " File(filename='/home/jovyan/work/data/ds000114/derivatives/freesurfer/sub-01/mri/wm.mgz', subject='01'),\n",
       " File(filename='/home/jovyan/work/data/ds000114/derivatives/freesurfer/sub-01/mri/wm.seg.mgz', subject='01'),\n",
       " File(filename='/home/jovyan/work/data/ds000114/derivatives/freesurfer/sub-01/mri/wmparc.mgz', subject='01'),\n",
       " File(filename='/home/jovyan/work/data/ds000114/derivatives/freesurfer/sub-01/scripts/build-stamp.txt', subject='01'),\n",
       " File(filename='/home/jovyan/work/data/ds000114/derivatives/freesurfer/sub-01/scripts/csurfdir', subject='01'),\n",
       " File(filename='/home/jovyan/work/data/ds000114/derivatives/freesurfer/sub-01/scripts/pctsurfcon.log', subject='01'),\n",
       " File(filename='/home/jovyan/work/data/ds000114/derivatives/freesurfer/sub-01/scripts/pctsurfcon.log.old', subject='01'),\n",
       " File(filename='/home/jovyan/work/data/ds000114/derivatives/freesurfer/sub-01/scripts/ponscc.cut.log', subject='01'),\n",
       " File(filename='/home/jovyan/work/data/ds000114/derivatives/freesurfer/sub-01/scripts/recon-all-status.log', subject='01'),\n",
       " File(filename='/home/jovyan/work/data/ds000114/derivatives/freesurfer/sub-01/scripts/recon-all.cmd', subject='01'),\n",
       " File(filename='/home/jovyan/work/data/ds000114/derivatives/freesurfer/sub-01/scripts/recon-all.done', subject='01'),\n",
       " File(filename='/home/jovyan/work/data/ds000114/derivatives/freesurfer/sub-01/scripts/recon-all.env', subject='01'),\n",
       " File(filename='/home/jovyan/work/data/ds000114/derivatives/freesurfer/sub-01/scripts/recon-all.local-copy', subject='01'),\n",
       " File(filename='/home/jovyan/work/data/ds000114/derivatives/freesurfer/sub-01/scripts/recon-all.log', subject='01'),\n",
       " File(filename='/home/jovyan/work/data/ds000114/derivatives/freesurfer/sub-01/stats/aseg.stats', subject='01'),\n",
       " File(filename='/home/jovyan/work/data/ds000114/derivatives/freesurfer/sub-01/stats/lh.aparc.a2009s.stats', subject='01'),\n",
       " File(filename='/home/jovyan/work/data/ds000114/derivatives/freesurfer/sub-01/stats/lh.aparc.DKTatlas40.stats', subject='01'),\n",
       " File(filename='/home/jovyan/work/data/ds000114/derivatives/freesurfer/sub-01/stats/lh.aparc.stats', subject='01'),\n",
       " File(filename='/home/jovyan/work/data/ds000114/derivatives/freesurfer/sub-01/stats/lh.BA.stats', subject='01'),\n",
       " File(filename='/home/jovyan/work/data/ds000114/derivatives/freesurfer/sub-01/stats/lh.BA.thresh.stats', subject='01'),\n",
       " File(filename='/home/jovyan/work/data/ds000114/derivatives/freesurfer/sub-01/stats/lh.curv.stats', subject='01'),\n",
       " File(filename='/home/jovyan/work/data/ds000114/derivatives/freesurfer/sub-01/stats/lh.entorhinal_exvivo.stats', subject='01'),\n",
       " File(filename='/home/jovyan/work/data/ds000114/derivatives/freesurfer/sub-01/stats/lh.w-g.pct.stats', subject='01'),\n",
       " File(filename='/home/jovyan/work/data/ds000114/derivatives/freesurfer/sub-01/stats/rh.aparc.a2009s.stats', subject='01'),\n",
       " File(filename='/home/jovyan/work/data/ds000114/derivatives/freesurfer/sub-01/stats/rh.aparc.DKTatlas40.stats', subject='01'),\n",
       " File(filename='/home/jovyan/work/data/ds000114/derivatives/freesurfer/sub-01/stats/rh.aparc.stats', subject='01'),\n",
       " File(filename='/home/jovyan/work/data/ds000114/derivatives/freesurfer/sub-01/stats/rh.BA.stats', subject='01'),\n",
       " File(filename='/home/jovyan/work/data/ds000114/derivatives/freesurfer/sub-01/stats/rh.BA.thresh.stats', subject='01'),\n",
       " File(filename='/home/jovyan/work/data/ds000114/derivatives/freesurfer/sub-01/stats/rh.curv.stats', subject='01'),\n",
       " File(filename='/home/jovyan/work/data/ds000114/derivatives/freesurfer/sub-01/stats/rh.entorhinal_exvivo.stats', subject='01'),\n",
       " File(filename='/home/jovyan/work/data/ds000114/derivatives/freesurfer/sub-01/stats/rh.w-g.pct.stats', subject='01'),\n",
       " File(filename='/home/jovyan/work/data/ds000114/derivatives/freesurfer/sub-01/stats/wmparc.stats', subject='01'),\n",
       " File(filename='/home/jovyan/work/data/ds000114/derivatives/freesurfer/sub-01/surf/lh.area', subject='01'),\n",
       " File(filename='/home/jovyan/work/data/ds000114/derivatives/freesurfer/sub-01/surf/lh.area.mid', subject='01'),\n",
       " File(filename='/home/jovyan/work/data/ds000114/derivatives/freesurfer/sub-01/surf/lh.area.pial', subject='01'),\n",
       " File(filename='/home/jovyan/work/data/ds000114/derivatives/freesurfer/sub-01/surf/lh.avg_curv', subject='01'),\n",
       " File(filename='/home/jovyan/work/data/ds000114/derivatives/freesurfer/sub-01/surf/lh.curv', subject='01'),\n",
       " File(filename='/home/jovyan/work/data/ds000114/derivatives/freesurfer/sub-01/surf/lh.curv.pial', subject='01'),\n",
       " File(filename='/home/jovyan/work/data/ds000114/derivatives/freesurfer/sub-01/surf/lh.defect_borders', subject='01'),\n",
       " File(filename='/home/jovyan/work/data/ds000114/derivatives/freesurfer/sub-01/surf/lh.defect_chull', subject='01'),\n",
       " File(filename='/home/jovyan/work/data/ds000114/derivatives/freesurfer/sub-01/surf/lh.defect_labels', subject='01'),\n",
       " File(filename='/home/jovyan/work/data/ds000114/derivatives/freesurfer/sub-01/surf/lh.inflated', subject='01'),\n",
       " File(filename='/home/jovyan/work/data/ds000114/derivatives/freesurfer/sub-01/surf/lh.inflated.H', subject='01'),\n",
       " File(filename='/home/jovyan/work/data/ds000114/derivatives/freesurfer/sub-01/surf/lh.inflated.K', subject='01'),\n",
       " File(filename='/home/jovyan/work/data/ds000114/derivatives/freesurfer/sub-01/surf/lh.inflated.nofix', subject='01'),\n",
       " File(filename='/home/jovyan/work/data/ds000114/derivatives/freesurfer/sub-01/surf/lh.jacobian_white', subject='01'),\n",
       " File(filename='/home/jovyan/work/data/ds000114/derivatives/freesurfer/sub-01/surf/lh.orig', subject='01'),\n",
       " File(filename='/home/jovyan/work/data/ds000114/derivatives/freesurfer/sub-01/surf/lh.orig.nofix', subject='01'),\n",
       " File(filename='/home/jovyan/work/data/ds000114/derivatives/freesurfer/sub-01/surf/lh.pial', subject='01'),\n",
       " File(filename='/home/jovyan/work/data/ds000114/derivatives/freesurfer/sub-01/surf/lh.qsphere.nofix', subject='01'),\n",
       " File(filename='/home/jovyan/work/data/ds000114/derivatives/freesurfer/sub-01/surf/lh.smoothwm', subject='01'),\n",
       " File(filename='/home/jovyan/work/data/ds000114/derivatives/freesurfer/sub-01/surf/lh.smoothwm.BE.crv', subject='01'),\n",
       " File(filename='/home/jovyan/work/data/ds000114/derivatives/freesurfer/sub-01/surf/lh.smoothwm.C.crv', subject='01'),\n",
       " File(filename='/home/jovyan/work/data/ds000114/derivatives/freesurfer/sub-01/surf/lh.smoothwm.FI.crv', subject='01'),\n",
       " File(filename='/home/jovyan/work/data/ds000114/derivatives/freesurfer/sub-01/surf/lh.smoothwm.H.crv', subject='01'),\n",
       " File(filename='/home/jovyan/work/data/ds000114/derivatives/freesurfer/sub-01/surf/lh.smoothwm.K1.crv', subject='01'),\n",
       " File(filename='/home/jovyan/work/data/ds000114/derivatives/freesurfer/sub-01/surf/lh.smoothwm.K2.crv', subject='01'),\n",
       " File(filename='/home/jovyan/work/data/ds000114/derivatives/freesurfer/sub-01/surf/lh.smoothwm.K.crv', subject='01'),\n",
       " File(filename='/home/jovyan/work/data/ds000114/derivatives/freesurfer/sub-01/surf/lh.smoothwm.nofix', subject='01'),\n",
       " File(filename='/home/jovyan/work/data/ds000114/derivatives/freesurfer/sub-01/surf/lh.smoothwm.S.crv', subject='01'),\n",
       " File(filename='/home/jovyan/work/data/ds000114/derivatives/freesurfer/sub-01/surf/lh.sphere', subject='01'),\n",
       " File(filename='/home/jovyan/work/data/ds000114/derivatives/freesurfer/sub-01/surf/lh.sphere.reg', subject='01'),\n",
       " File(filename='/home/jovyan/work/data/ds000114/derivatives/freesurfer/sub-01/surf/lh.sulc', subject='01'),\n",
       " File(filename='/home/jovyan/work/data/ds000114/derivatives/freesurfer/sub-01/surf/lh.thickness', subject='01'),\n",
       " File(filename='/home/jovyan/work/data/ds000114/derivatives/freesurfer/sub-01/surf/lh.volume', subject='01'),\n",
       " File(filename='/home/jovyan/work/data/ds000114/derivatives/freesurfer/sub-01/surf/lh.w-g.pct.mgh', subject='01'),\n",
       " File(filename='/home/jovyan/work/data/ds000114/derivatives/freesurfer/sub-01/surf/lh.white', subject='01'),\n",
       " File(filename='/home/jovyan/work/data/ds000114/derivatives/freesurfer/sub-01/surf/rh.area', subject='01'),\n",
       " File(filename='/home/jovyan/work/data/ds000114/derivatives/freesurfer/sub-01/surf/rh.area.mid', subject='01'),\n",
       " File(filename='/home/jovyan/work/data/ds000114/derivatives/freesurfer/sub-01/surf/rh.area.pial', subject='01'),\n",
       " File(filename='/home/jovyan/work/data/ds000114/derivatives/freesurfer/sub-01/surf/rh.avg_curv', subject='01'),\n",
       " File(filename='/home/jovyan/work/data/ds000114/derivatives/freesurfer/sub-01/surf/rh.curv', subject='01'),\n",
       " File(filename='/home/jovyan/work/data/ds000114/derivatives/freesurfer/sub-01/surf/rh.curv.pial', subject='01'),\n",
       " File(filename='/home/jovyan/work/data/ds000114/derivatives/freesurfer/sub-01/surf/rh.defect_borders', subject='01'),\n",
       " File(filename='/home/jovyan/work/data/ds000114/derivatives/freesurfer/sub-01/surf/rh.defect_chull', subject='01'),\n",
       " File(filename='/home/jovyan/work/data/ds000114/derivatives/freesurfer/sub-01/surf/rh.defect_labels', subject='01'),\n",
       " File(filename='/home/jovyan/work/data/ds000114/derivatives/freesurfer/sub-01/surf/rh.inflated', subject='01'),\n",
       " File(filename='/home/jovyan/work/data/ds000114/derivatives/freesurfer/sub-01/surf/rh.inflated.H', subject='01'),\n",
       " File(filename='/home/jovyan/work/data/ds000114/derivatives/freesurfer/sub-01/surf/rh.inflated.K', subject='01'),\n",
       " File(filename='/home/jovyan/work/data/ds000114/derivatives/freesurfer/sub-01/surf/rh.inflated.nofix', subject='01'),\n",
       " File(filename='/home/jovyan/work/data/ds000114/derivatives/freesurfer/sub-01/surf/rh.jacobian_white', subject='01'),\n",
       " File(filename='/home/jovyan/work/data/ds000114/derivatives/freesurfer/sub-01/surf/rh.orig', subject='01'),\n",
       " File(filename='/home/jovyan/work/data/ds000114/derivatives/freesurfer/sub-01/surf/rh.orig.nofix', subject='01'),\n",
       " File(filename='/home/jovyan/work/data/ds000114/derivatives/freesurfer/sub-01/surf/rh.pial', subject='01'),\n",
       " File(filename='/home/jovyan/work/data/ds000114/derivatives/freesurfer/sub-01/surf/rh.qsphere.nofix', subject='01'),\n",
       " File(filename='/home/jovyan/work/data/ds000114/derivatives/freesurfer/sub-01/surf/rh.smoothwm', subject='01'),\n",
       " File(filename='/home/jovyan/work/data/ds000114/derivatives/freesurfer/sub-01/surf/rh.smoothwm.BE.crv', subject='01'),\n",
       " File(filename='/home/jovyan/work/data/ds000114/derivatives/freesurfer/sub-01/surf/rh.smoothwm.C.crv', subject='01'),\n",
       " File(filename='/home/jovyan/work/data/ds000114/derivatives/freesurfer/sub-01/surf/rh.smoothwm.FI.crv', subject='01'),\n",
       " File(filename='/home/jovyan/work/data/ds000114/derivatives/freesurfer/sub-01/surf/rh.smoothwm.H.crv', subject='01'),\n",
       " File(filename='/home/jovyan/work/data/ds000114/derivatives/freesurfer/sub-01/surf/rh.smoothwm.K1.crv', subject='01'),\n",
       " File(filename='/home/jovyan/work/data/ds000114/derivatives/freesurfer/sub-01/surf/rh.smoothwm.K2.crv', subject='01'),\n",
       " File(filename='/home/jovyan/work/data/ds000114/derivatives/freesurfer/sub-01/surf/rh.smoothwm.K.crv', subject='01'),\n",
       " File(filename='/home/jovyan/work/data/ds000114/derivatives/freesurfer/sub-01/surf/rh.smoothwm.nofix', subject='01'),\n",
       " File(filename='/home/jovyan/work/data/ds000114/derivatives/freesurfer/sub-01/surf/rh.smoothwm.S.crv', subject='01'),\n",
       " File(filename='/home/jovyan/work/data/ds000114/derivatives/freesurfer/sub-01/surf/rh.sphere', subject='01'),\n",
       " File(filename='/home/jovyan/work/data/ds000114/derivatives/freesurfer/sub-01/surf/rh.sphere.reg', subject='01'),\n",
       " File(filename='/home/jovyan/work/data/ds000114/derivatives/freesurfer/sub-01/surf/rh.sulc', subject='01'),\n",
       " File(filename='/home/jovyan/work/data/ds000114/derivatives/freesurfer/sub-01/surf/rh.thickness', subject='01'),\n",
       " File(filename='/home/jovyan/work/data/ds000114/derivatives/freesurfer/sub-01/surf/rh.volume', subject='01'),\n",
       " File(filename='/home/jovyan/work/data/ds000114/derivatives/freesurfer/sub-01/surf/rh.w-g.pct.mgh', subject='01'),\n",
       " File(filename='/home/jovyan/work/data/ds000114/derivatives/freesurfer/sub-01/surf/rh.white', subject='01'),\n",
       " File(filename='/home/jovyan/work/data/ds000114/derivatives/freesurfer/sub-01/touch/aparc2aseg.touch', subject='01'),\n",
       " File(filename='/home/jovyan/work/data/ds000114/derivatives/freesurfer/sub-01/touch/aparc.a2009s2aseg.touch', subject='01'),\n",
       " File(filename='/home/jovyan/work/data/ds000114/derivatives/freesurfer/sub-01/touch/asegmerge.touch', subject='01'),\n",
       " File(filename='/home/jovyan/work/data/ds000114/derivatives/freesurfer/sub-01/touch/ca_label.touch', subject='01'),\n",
       " File(filename='/home/jovyan/work/data/ds000114/derivatives/freesurfer/sub-01/touch/ca_normalize.touch', subject='01'),\n",
       " File(filename='/home/jovyan/work/data/ds000114/derivatives/freesurfer/sub-01/touch/ca_register.touch', subject='01'),\n",
       " File(filename='/home/jovyan/work/data/ds000114/derivatives/freesurfer/sub-01/touch/ca_register_inv.touch', subject='01'),\n",
       " File(filename='/home/jovyan/work/data/ds000114/derivatives/freesurfer/sub-01/touch/conform.touch', subject='01'),\n",
       " File(filename='/home/jovyan/work/data/ds000114/derivatives/freesurfer/sub-01/touch/cortical_ribbon.touch', subject='01'),\n",
       " File(filename='/home/jovyan/work/data/ds000114/derivatives/freesurfer/sub-01/touch/em_register.touch', subject='01'),\n",
       " File(filename='/home/jovyan/work/data/ds000114/derivatives/freesurfer/sub-01/touch/fill.touch', subject='01'),\n",
       " File(filename='/home/jovyan/work/data/ds000114/derivatives/freesurfer/sub-01/touch/inorm1.touch', subject='01'),\n",
       " File(filename='/home/jovyan/work/data/ds000114/derivatives/freesurfer/sub-01/touch/inorm2.touch', subject='01'),\n",
       " File(filename='/home/jovyan/work/data/ds000114/derivatives/freesurfer/sub-01/touch/lh.aparc2.touch', subject='01'),\n",
       " File(filename='/home/jovyan/work/data/ds000114/derivatives/freesurfer/sub-01/touch/lh.aparc.touch', subject='01'),\n",
       " File(filename='/home/jovyan/work/data/ds000114/derivatives/freesurfer/sub-01/touch/lh.aparcstats2.touch', subject='01'),\n",
       " File(filename='/home/jovyan/work/data/ds000114/derivatives/freesurfer/sub-01/touch/lh.aparcstats3.touch', subject='01'),\n",
       " File(filename='/home/jovyan/work/data/ds000114/derivatives/freesurfer/sub-01/touch/lh.aparcstats.touch', subject='01'),\n",
       " File(filename='/home/jovyan/work/data/ds000114/derivatives/freesurfer/sub-01/touch/lh.avgcurv.touch', subject='01'),\n",
       " File(filename='/home/jovyan/work/data/ds000114/derivatives/freesurfer/sub-01/touch/lh.curvstats.touch', subject='01'),\n",
       " File(filename='/home/jovyan/work/data/ds000114/derivatives/freesurfer/sub-01/touch/lh.final_surfaces.touch', subject='01'),\n",
       " File(filename='/home/jovyan/work/data/ds000114/derivatives/freesurfer/sub-01/touch/lh.inflate1.touch', subject='01'),\n",
       " File(filename='/home/jovyan/work/data/ds000114/derivatives/freesurfer/sub-01/touch/lh.inflate2.touch', subject='01'),\n",
       " File(filename='/home/jovyan/work/data/ds000114/derivatives/freesurfer/sub-01/touch/lh.jacobian_white.touch', subject='01'),\n",
       " File(filename='/home/jovyan/work/data/ds000114/derivatives/freesurfer/sub-01/touch/lh.pctsurfcon.touch', subject='01'),\n",
       " File(filename='/home/jovyan/work/data/ds000114/derivatives/freesurfer/sub-01/touch/lh.pial_surface.touch', subject='01'),\n",
       " File(filename='/home/jovyan/work/data/ds000114/derivatives/freesurfer/sub-01/touch/lh.qsphere.touch', subject='01'),\n",
       " File(filename='/home/jovyan/work/data/ds000114/derivatives/freesurfer/sub-01/touch/lh.smoothwm1.touch', subject='01'),\n",
       " File(filename='/home/jovyan/work/data/ds000114/derivatives/freesurfer/sub-01/touch/lh.smoothwm2.touch', subject='01'),\n",
       " File(filename='/home/jovyan/work/data/ds000114/derivatives/freesurfer/sub-01/touch/lh.sphmorph.touch', subject='01'),\n",
       " File(filename='/home/jovyan/work/data/ds000114/derivatives/freesurfer/sub-01/touch/lh.sphreg.touch', subject='01'),\n",
       " File(filename='/home/jovyan/work/data/ds000114/derivatives/freesurfer/sub-01/touch/lh.surfvolume.touch', subject='01'),\n",
       " File(filename='/home/jovyan/work/data/ds000114/derivatives/freesurfer/sub-01/touch/lh.tessellate.touch', subject='01'),\n",
       " File(filename='/home/jovyan/work/data/ds000114/derivatives/freesurfer/sub-01/touch/lh.topofix.touch', subject='01'),\n",
       " File(filename='/home/jovyan/work/data/ds000114/derivatives/freesurfer/sub-01/touch/lh.white_surface.touch', subject='01'),\n",
       " File(filename='/home/jovyan/work/data/ds000114/derivatives/freesurfer/sub-01/touch/mri_remove_neck.touch', subject='01'),\n",
       " File(filename='/home/jovyan/work/data/ds000114/derivatives/freesurfer/sub-01/touch/nu.touch', subject='01'),\n",
       " File(filename='/home/jovyan/work/data/ds000114/derivatives/freesurfer/sub-01/touch/rh.aparc2.touch', subject='01'),\n",
       " File(filename='/home/jovyan/work/data/ds000114/derivatives/freesurfer/sub-01/touch/rh.aparc.touch', subject='01'),\n",
       " File(filename='/home/jovyan/work/data/ds000114/derivatives/freesurfer/sub-01/touch/rh.aparcstats2.touch', subject='01'),\n",
       " File(filename='/home/jovyan/work/data/ds000114/derivatives/freesurfer/sub-01/touch/rh.aparcstats3.touch', subject='01'),\n",
       " File(filename='/home/jovyan/work/data/ds000114/derivatives/freesurfer/sub-01/touch/rh.aparcstats.touch', subject='01'),\n",
       " File(filename='/home/jovyan/work/data/ds000114/derivatives/freesurfer/sub-01/touch/rh.avgcurv.touch', subject='01'),\n",
       " File(filename='/home/jovyan/work/data/ds000114/derivatives/freesurfer/sub-01/touch/rh.curvstats.touch', subject='01'),\n",
       " File(filename='/home/jovyan/work/data/ds000114/derivatives/freesurfer/sub-01/touch/rh.final_surfaces.touch', subject='01'),\n",
       " File(filename='/home/jovyan/work/data/ds000114/derivatives/freesurfer/sub-01/touch/rh.inflate1.touch', subject='01'),\n",
       " File(filename='/home/jovyan/work/data/ds000114/derivatives/freesurfer/sub-01/touch/rh.inflate2.touch', subject='01'),\n",
       " File(filename='/home/jovyan/work/data/ds000114/derivatives/freesurfer/sub-01/touch/rh.jacobian_white.touch', subject='01'),\n",
       " File(filename='/home/jovyan/work/data/ds000114/derivatives/freesurfer/sub-01/touch/rh.pctsurfcon.touch', subject='01'),\n",
       " File(filename='/home/jovyan/work/data/ds000114/derivatives/freesurfer/sub-01/touch/rh.pial_surface.touch', subject='01'),\n",
       " File(filename='/home/jovyan/work/data/ds000114/derivatives/freesurfer/sub-01/touch/rh.qsphere.touch', subject='01'),\n",
       " File(filename='/home/jovyan/work/data/ds000114/derivatives/freesurfer/sub-01/touch/rh.smoothwm1.touch', subject='01'),\n",
       " File(filename='/home/jovyan/work/data/ds000114/derivatives/freesurfer/sub-01/touch/rh.smoothwm2.touch', subject='01'),\n",
       " File(filename='/home/jovyan/work/data/ds000114/derivatives/freesurfer/sub-01/touch/rh.sphmorph.touch', subject='01'),\n",
       " File(filename='/home/jovyan/work/data/ds000114/derivatives/freesurfer/sub-01/touch/rh.sphreg.touch', subject='01'),\n",
       " File(filename='/home/jovyan/work/data/ds000114/derivatives/freesurfer/sub-01/touch/rh.surfvolume.touch', subject='01'),\n",
       " File(filename='/home/jovyan/work/data/ds000114/derivatives/freesurfer/sub-01/touch/rh.tessellate.touch', subject='01'),\n",
       " File(filename='/home/jovyan/work/data/ds000114/derivatives/freesurfer/sub-01/touch/rh.topofix.touch', subject='01'),\n",
       " File(filename='/home/jovyan/work/data/ds000114/derivatives/freesurfer/sub-01/touch/rh.white_surface.touch', subject='01'),\n",
       " File(filename='/home/jovyan/work/data/ds000114/derivatives/freesurfer/sub-01/touch/segstats.touch', subject='01'),\n",
       " File(filename='/home/jovyan/work/data/ds000114/derivatives/freesurfer/sub-01/touch/skull.lta.touch', subject='01'),\n",
       " File(filename='/home/jovyan/work/data/ds000114/derivatives/freesurfer/sub-01/touch/skull_2.lta.touch', subject='01'),\n",
       " File(filename='/home/jovyan/work/data/ds000114/derivatives/freesurfer/sub-01/touch/skull_strip.touch', subject='01'),\n",
       " File(filename='/home/jovyan/work/data/ds000114/derivatives/freesurfer/sub-01/touch/talairach.touch', subject='01'),\n",
       " File(filename='/home/jovyan/work/data/ds000114/derivatives/freesurfer/sub-01/touch/wmaparc.stats.touch', subject='01'),\n",
       " File(filename='/home/jovyan/work/data/ds000114/derivatives/freesurfer/sub-01/touch/wmaparc.touch', subject='01'),\n",
       " File(filename='/home/jovyan/work/data/ds000114/derivatives/freesurfer/sub-01/touch/wmsegment.touch', subject='01'),\n",
       " File(filename='/home/jovyan/work/data/ds000114/sub-01/anat/sub-01_T1w.nii.gz', subject='01', modality='anat', type='T1w'),\n",
       " File(filename='/home/jovyan/work/data/ds000114/sub-01/dwi/sub-01_dwi.nii.gz', subject='01', modality='dwi', type='dwi'),\n",
       " File(filename='/home/jovyan/work/data/ds000114/sub-01/func/sub-01_task-fingerfootlips_bold.nii.gz', task='fingerfootlips', subject='01', modality='func', type='bold'),\n",
       " File(filename='/home/jovyan/work/data/ds000114/sub-01/func/sub-01_task-linebisection_bold.nii.gz', task='linebisection', subject='01', modality='func', type='bold'),\n",
       " File(filename='/home/jovyan/work/data/ds000114/sub-01/func/sub-01_task-linebisection_events.tsv', task='linebisection', subject='01', modality='func', type='events')]"
      ]
     },
     "execution_count": 8,
     "metadata": {},
     "output_type": "execute_result"
    }
   ],
   "source": [
    "layout.get(subject='01')"
   ]
  },
  {
   "cell_type": "markdown",
   "metadata": {
    "deletable": true,
    "editable": true
   },
   "source": [
    "We can also ask for a specific subset of data. Note that we are using extension filter to get just the imaging data (BIDS allows both .nii and .nii.gz so we need to include both)."
   ]
  },
  {
   "cell_type": "code",
   "execution_count": 9,
   "metadata": {
    "collapsed": false,
    "deletable": true,
    "editable": true
   },
   "outputs": [
    {
     "data": {
      "text/plain": [
       "[File(filename='/home/jovyan/work/data/ds000114/sub-01/func/sub-01_task-fingerfootlips_bold.nii.gz', task='fingerfootlips', subject='01', modality='func', type='bold'),\n",
       " File(filename='/home/jovyan/work/data/ds000114/sub-01/func/sub-01_task-linebisection_bold.nii.gz', task='linebisection', subject='01', modality='func', type='bold')]"
      ]
     },
     "execution_count": 9,
     "metadata": {},
     "output_type": "execute_result"
    }
   ],
   "source": [
    "layout.get(subject='01', type='bold', extensions=['nii', 'nii.gz'])"
   ]
  },
  {
   "cell_type": "markdown",
   "metadata": {
    "deletable": true,
    "editable": true
   },
   "source": [
    "You probably noticed that this method does not only return the file paths, but objects with relevant query fields. We can easily extract just the file paths."
   ]
  },
  {
   "cell_type": "code",
   "execution_count": 10,
   "metadata": {
    "collapsed": false,
    "deletable": true,
    "editable": true
   },
   "outputs": [
    {
     "data": {
      "text/plain": [
       "['/home/jovyan/work/data/ds000114/sub-01/anat/sub-01_T1w.nii.gz']"
      ]
     },
     "execution_count": 10,
     "metadata": {},
     "output_type": "execute_result"
    }
   ],
   "source": [
    "[f.filename for f in layout.get(subject='01', type='T1w', extensions=['nii', 'nii.gz'])]"
   ]
  },
  {
   "cell_type": "markdown",
   "metadata": {},
   "source": [
    "### Exercise 1:\n",
    "List all of the BOLD files for subject 03, but only for the linebisection task"
   ]
  },
  {
   "cell_type": "markdown",
   "metadata": {
    "deletable": true,
    "editable": true
   },
   "source": [
    "## Including `pybids` in your `nipype` workflow\n",
    "This is great, but what we really want is to include this into our `nipype` workflows. How to do this? We can create our own custom `BIDSDataGrabber` using a `Function` Interface. First we need a plain Python function that for a given subject label and dataset location will return list of BOLD and T1w files."
   ]
  },
  {
   "cell_type": "code",
   "execution_count": 11,
   "metadata": {
    "collapsed": false,
    "deletable": true,
    "editable": true
   },
   "outputs": [],
   "source": [
    "def get_niftis(subject_id, data_dir):\n",
    "    # Remember that all the necesary imports need to be INSIDE the function for the Function Interface to work!\n",
    "    from bids.grabbids import BIDSLayout\n",
    "    \n",
    "    layout = BIDSLayout(data_dir)\n",
    "    \n",
    "    bolds = [f.filename for f in layout.get(subject=subject_id, type='bold', extensions=['nii', 'nii.gz'])]\n",
    "    \n",
    "    return bolds"
   ]
  },
  {
   "cell_type": "code",
   "execution_count": 12,
   "metadata": {
    "collapsed": false,
    "deletable": true,
    "editable": true
   },
   "outputs": [
    {
     "data": {
      "text/plain": [
       "['/home/jovyan/work/data/ds000114/sub-01/func/sub-01_task-fingerfootlips_bold.nii.gz',\n",
       " '/home/jovyan/work/data/ds000114/sub-01/func/sub-01_task-linebisection_bold.nii.gz']"
      ]
     },
     "execution_count": 12,
     "metadata": {},
     "output_type": "execute_result"
    }
   ],
   "source": [
    "get_niftis('01', '/home/jovyan/work/data/ds000114/')"
   ]
  },
  {
   "cell_type": "markdown",
   "metadata": {
    "deletable": true,
    "editable": true
   },
   "source": [
    "Ok we got our function. Now we need to wrap it inside a Node object."
   ]
  },
  {
   "cell_type": "code",
   "execution_count": 13,
   "metadata": {
    "collapsed": true,
    "deletable": true,
    "editable": true
   },
   "outputs": [],
   "source": [
    "from nipype.pipeline import Node, MapNode, Workflow\n",
    "from nipype.interfaces.utility import IdentityInterface, Function"
   ]
  },
  {
   "cell_type": "code",
   "execution_count": 14,
   "metadata": {
    "collapsed": false,
    "deletable": true,
    "editable": true
   },
   "outputs": [],
   "source": [
    "BIDSDataGrabber = Node(Function(function=get_niftis, input_names=[\"subject_id\",\n",
    "                                       \"data_dir\"],\n",
    "                                   output_names=[\"bolds\", \n",
    "                                        \"T1ws\"]), name=\"BIDSDataGrabber\")\n",
    "BIDSDataGrabber.inputs.data_dir = \"/home/jovyan/work/data/ds000114/\""
   ]
  },
  {
   "cell_type": "code",
   "execution_count": 15,
   "metadata": {
    "collapsed": false,
    "deletable": true,
    "editable": true
   },
   "outputs": [
    {
     "name": "stdout",
     "output_type": "stream",
     "text": [
      "170325-01:31:11,243 workflow INFO:\n",
      "\t Executing node BIDSDataGrabber in dir: /tmp/tmpfbaoru3k/BIDSDataGrabber\n"
     ]
    },
    {
     "data": {
      "text/plain": [
       "\n",
       "T1ws = /home/jovyan/work/data/ds000114/sub-01/func/sub-01_task-linebisection_bold.nii.gz\n",
       "bolds = /home/jovyan/work/data/ds000114/sub-01/func/sub-01_task-fingerfootlips_bold.nii.gz"
      ]
     },
     "execution_count": 15,
     "metadata": {},
     "output_type": "execute_result"
    }
   ],
   "source": [
    "BIDSDataGrabber.inputs.subject_id='01'\n",
    "res = BIDSDataGrabber.run()\n",
    "res.outputs"
   ]
  },
  {
   "cell_type": "markdown",
   "metadata": {
    "deletable": true,
    "editable": true
   },
   "source": [
    "Works like a charm! (hopefully :) Lets put it in a workflow. We are not going to analyze any data, but for demostrantion purposes we will add a couple of nodes that pretend to analyze their inputs"
   ]
  },
  {
   "cell_type": "code",
   "execution_count": 16,
   "metadata": {
    "collapsed": false,
    "deletable": true,
    "editable": true
   },
   "outputs": [],
   "source": [
    "def printMe(paths):\n",
    "    print(\"\\n\\nanalyzing \" + str(paths) + \"\\n\\n\")\n",
    "    \n",
    "analyzeBOLD = Node(Function(function=printMe, input_names=[\"paths\"],\n",
    "                            output_names=[]), name=\"analyzeBOLD\")"
   ]
  },
  {
   "cell_type": "code",
   "execution_count": 17,
   "metadata": {
    "collapsed": false,
    "deletable": true,
    "editable": true,
    "scrolled": true
   },
   "outputs": [
    {
     "name": "stdout",
     "output_type": "stream",
     "text": [
      "170325-01:31:12,752 workflow INFO:\n",
      "\t Workflow bids_demo settings: ['check', 'execution', 'logging']\n",
      "170325-01:31:12,900 workflow INFO:\n",
      "\t Running serially.\n",
      "170325-01:31:12,903 workflow INFO:\n",
      "\t Executing node BIDSDataGrabber in dir: /tmp/tmpyml_3dg_/bids_demo/BIDSDataGrabber\n",
      "170325-01:31:14,44 workflow INFO:\n",
      "\t Executing node analyzeBOLD in dir: /tmp/tmpaf7epqfc/bids_demo/analyzeBOLD\n",
      "\n",
      "\n",
      "analyzing /home/jovyan/work/data/ds000114/sub-01/func/sub-01_task-fingerfootlips_bold.nii.gz\n",
      "\n",
      "\n"
     ]
    },
    {
     "data": {
      "text/plain": [
       "<networkx.classes.digraph.DiGraph at 0x7f5c02b8c048>"
      ]
     },
     "execution_count": 17,
     "metadata": {},
     "output_type": "execute_result"
    }
   ],
   "source": [
    "wf = Workflow(name=\"bids_demo\")\n",
    "wf.connect(BIDSDataGrabber, \"bolds\", analyzeBOLD, \"paths\")\n",
    "wf.run()"
   ]
  },
  {
   "cell_type": "markdown",
   "metadata": {},
   "source": [
    "### Exercise 2:\n",
    "Modify the `BIDSDataGrabber` and the workflow to include T1ws."
   ]
  },
  {
   "cell_type": "markdown",
   "metadata": {
    "deletable": true,
    "editable": true
   },
   "source": [
    "## Iterating over subject labels\n",
    "In the previous example we demostrated how to use `pybids` to \"analyze\" one subject. How can we scale it for all subjects? Easy - using `iterables`."
   ]
  },
  {
   "cell_type": "code",
   "execution_count": 18,
   "metadata": {
    "collapsed": false,
    "deletable": true,
    "editable": true,
    "scrolled": false
   },
   "outputs": [
    {
     "name": "stdout",
     "output_type": "stream",
     "text": [
      "170325-01:31:15,283 workflow INFO:\n",
      "\t Workflow bids_demo settings: ['check', 'execution', 'logging']\n",
      "170325-01:31:15,419 workflow INFO:\n",
      "\t Running serially.\n",
      "170325-01:31:15,420 workflow INFO:\n",
      "\t Executing node BIDSDataGrabber.aI.a1 in dir: /tmp/tmp1_1rge6u/bids_demo/_subject_id_02/BIDSDataGrabber\n",
      "170325-01:31:16,771 workflow INFO:\n",
      "\t Executing node BIDSDataGrabber.aI.a0 in dir: /tmp/tmppm8l31ei/bids_demo/_subject_id_01/BIDSDataGrabber\n",
      "170325-01:31:18,117 workflow INFO:\n",
      "\t Executing node analyzeBOLD.a0 in dir: /tmp/tmpoxqxt2c0/bids_demo/_subject_id_01/analyzeBOLD\n",
      "\n",
      "\n",
      "analyzing /home/jovyan/work/data/ds000114/sub-01/func/sub-01_task-fingerfootlips_bold.nii.gz\n",
      "\n",
      "\n",
      "170325-01:31:18,147 workflow INFO:\n",
      "\t Executing node analyzeBOLD.a1 in dir: /tmp/tmp6sl3ajui/bids_demo/_subject_id_02/analyzeBOLD\n",
      "\n",
      "\n",
      "analyzing /home/jovyan/work/data/ds000114/sub-02/func/sub-02_task-fingerfootlips_bold.nii.gz\n",
      "\n",
      "\n"
     ]
    },
    {
     "data": {
      "text/plain": [
       "<networkx.classes.digraph.DiGraph at 0x7f5c02b8ee80>"
      ]
     },
     "execution_count": 18,
     "metadata": {},
     "output_type": "execute_result"
    }
   ],
   "source": [
    "BIDSDataGrabber.iterables = ('subject_id', layout.get_subjects())\n",
    "wf.run()"
   ]
  },
  {
   "cell_type": "markdown",
   "metadata": {
    "deletable": true,
    "editable": true
   },
   "source": [
    "## Accessing additional metadata\n",
    "Querying different files is nice, but sometimes you want to access more metadata. For example `RepetitionTime`. `pybids` can help with that as well"
   ]
  },
  {
   "cell_type": "code",
   "execution_count": 19,
   "metadata": {
    "collapsed": false,
    "deletable": true,
    "editable": true
   },
   "outputs": [
    {
     "data": {
      "text/plain": [
       "{'EchoTime': 0.05,\n",
       " 'FlipAngle': 90,\n",
       " 'RepetitionTime': 2.5,\n",
       " 'SliceTiming': [0.0,\n",
       "  1.2499999999999998,\n",
       "  0.08333333333333333,\n",
       "  1.333333333333333,\n",
       "  0.16666666666666666,\n",
       "  1.4166666666666663,\n",
       "  0.25,\n",
       "  1.4999999999999996,\n",
       "  0.3333333333333333,\n",
       "  1.5833333333333328,\n",
       "  0.41666666666666663,\n",
       "  1.666666666666666,\n",
       "  0.5,\n",
       "  1.7499999999999993,\n",
       "  0.5833333333333333,\n",
       "  1.8333333333333326,\n",
       "  0.6666666666666666,\n",
       "  1.9166666666666659,\n",
       "  0.75,\n",
       "  1.9999999999999991,\n",
       "  0.8333333333333333,\n",
       "  2.083333333333332,\n",
       "  0.9166666666666666,\n",
       "  2.1666666666666656,\n",
       "  1.0,\n",
       "  2.249999999999999,\n",
       "  1.0833333333333333,\n",
       "  2.333333333333332,\n",
       "  1.1666666666666665,\n",
       "  2.416666666666665],\n",
       " 'TaskName': 'finger_foot_lips'}"
      ]
     },
     "execution_count": 19,
     "metadata": {},
     "output_type": "execute_result"
    }
   ],
   "source": [
    "layout.get_metadata('/home/jovyan/work/data/ds000114/sub-01/func/sub-01_task-fingerfootlips_bold.nii.gz')"
   ]
  },
  {
   "cell_type": "markdown",
   "metadata": {
    "deletable": true,
    "editable": true
   },
   "source": [
    "Can we incorporate this into our pipeline? Yes we can!"
   ]
  },
  {
   "cell_type": "code",
   "execution_count": 20,
   "metadata": {
    "collapsed": true,
    "deletable": true,
    "editable": true
   },
   "outputs": [],
   "source": [
    "def printMetadata(path, data_dir):\n",
    "    from bids.grabbids import BIDSLayout\n",
    "    layout = BIDSLayout(data_dir)\n",
    "    print(\"\\n\\nanalyzing \" + path + \"\\nTR: \"+ str(layout.get_metadata(path)[\"RepetitionTime\"]) + \"\\n\\n\")\n",
    "    \n",
    "analyzeBOLD2 = MapNode(Function(function=printMetadata, input_names=[\"path\", \"data_dir\"],\n",
    "                             output_names=[]), name=\"analyzeBOLD2\", iterfield=\"path\")\n",
    "analyzeBOLD2.inputs.data_dir = \"/home/jovyan/work/data/ds000114/\""
   ]
  },
  {
   "cell_type": "code",
   "execution_count": 21,
   "metadata": {
    "collapsed": false,
    "deletable": true,
    "editable": true,
    "scrolled": false
   },
   "outputs": [
    {
     "name": "stdout",
     "output_type": "stream",
     "text": [
      "170325-01:31:18,255 workflow INFO:\n",
      "\t Workflow bids_demo settings: ['check', 'execution', 'logging']\n",
      "170325-01:31:18,407 workflow INFO:\n",
      "\t Running serially.\n",
      "170325-01:31:18,409 workflow INFO:\n",
      "\t Executing node BIDSDataGrabber.aI.a1 in dir: /tmp/tmpez6iduom/bids_demo/_subject_id_02/BIDSDataGrabber\n",
      "170325-01:31:19,658 workflow INFO:\n",
      "\t Executing node analyzeBOLD2.a1 in dir: /tmp/tmpl_vaqwqm/bids_demo/_subject_id_02/analyzeBOLD2\n",
      "170325-01:31:19,689 workflow INFO:\n",
      "\t Executing node _analyzeBOLD20 in dir: /tmp/tmpl_vaqwqm/bids_demo/_subject_id_02/analyzeBOLD2/mapflow/_analyzeBOLD20\n",
      "\n",
      "\n",
      "analyzing /home/jovyan/work/data/ds000114/sub-02/func/sub-02_task-fingerfootlips_bold.nii.gz\n",
      "TR: 2.5\n",
      "\n",
      "\n",
      "170325-01:31:20,831 workflow INFO:\n",
      "\t Executing node BIDSDataGrabber.aI.a0 in dir: /tmp/tmpf9nj9ys5/bids_demo/_subject_id_01/BIDSDataGrabber\n",
      "170325-01:31:21,981 workflow INFO:\n",
      "\t Executing node analyzeBOLD2.a0 in dir: /tmp/tmpiapxqcwq/bids_demo/_subject_id_01/analyzeBOLD2\n",
      "170325-01:31:21,991 workflow INFO:\n",
      "\t Executing node _analyzeBOLD20 in dir: /tmp/tmpiapxqcwq/bids_demo/_subject_id_01/analyzeBOLD2/mapflow/_analyzeBOLD20\n",
      "\n",
      "\n",
      "analyzing /home/jovyan/work/data/ds000114/sub-01/func/sub-01_task-fingerfootlips_bold.nii.gz\n",
      "TR: 2.5\n",
      "\n",
      "\n"
     ]
    },
    {
     "data": {
      "text/plain": [
       "<networkx.classes.digraph.DiGraph at 0x7f5c02be1b38>"
      ]
     },
     "execution_count": 21,
     "metadata": {},
     "output_type": "execute_result"
    }
   ],
   "source": [
    "wf = Workflow(name=\"bids_demo\")\n",
    "wf.connect(BIDSDataGrabber, \"bolds\", analyzeBOLD2, \"path\")\n",
    "wf.run()"
   ]
  },
  {
   "cell_type": "markdown",
   "metadata": {},
   "source": [
    "### Exercise 3:\n",
    "Modify the `printMetadata` function to also print `EchoTime` "
   ]
  }
 ],
 "metadata": {
  "kernelspec": {
   "display_name": "Python 3",
   "language": "python",
   "name": "python3"
  },
  "language_info": {
   "codemirror_mode": {
    "name": "ipython",
    "version": 3
   },
   "file_extension": ".py",
   "mimetype": "text/x-python",
   "name": "python",
   "nbconvert_exporter": "python",
   "pygments_lexer": "ipython3",
   "version": "3.5.2"
  }
 },
 "nbformat": 4,
 "nbformat_minor": 2
}
